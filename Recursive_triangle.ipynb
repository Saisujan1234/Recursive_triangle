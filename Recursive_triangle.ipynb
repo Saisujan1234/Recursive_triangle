{
  "nbformat": 4,
  "nbformat_minor": 0,
  "metadata": {
    "colab": {
      "name": "Recursive_triangle.ipynb",
      "provenance": []
    },
    "kernelspec": {
      "name": "python3",
      "display_name": "Python 3"
    },
    "language_info": {
      "name": "python"
    }
  },
  "cells": [
    {
      "cell_type": "code",
      "execution_count": 1,
      "metadata": {
        "id": "_li8gxcVfMNW"
      },
      "outputs": [],
      "source": [
        "def triangle(n):\n",
        "    return recursive_triangle(n, n)\n",
        "\n",
        "def recursive_triangle(x, n):\n",
        "    # First we must verify that both input values are integers.\n",
        "    if type(x) != int or type(n) != int:\n",
        "        return 'error'\n",
        "    # If x is bigger than n, we will still only print the full triangle, so we can set them equal.\n",
        "    if x > n:\n",
        "        x = n\n",
        "    # If either value is zero, the output should be an empty string because there are no lines or triangle to print.\n",
        "    if x == 0 or n == 0:\n",
        "        return ''\n",
        "    # Let's set some variable names to help us out.\n",
        "    star_print = n\n",
        "    line_number = x\n",
        "    # I'll create an empty string that we can concatenate values to.\n",
        "    line_print = ''\n",
        "    difference = star_print - line_number\n",
        "\n",
        "# If difference is not zero, we will print that value of spaces before the stars. The star print will be the\n",
        "    # remainder, also known as line number.\n",
        "    if difference != 0:\n",
        "        line_print += ' '*difference\n",
        "        line_print += '*'*line_number\n",
        "    # If difference is zero, then we can just fill the line with stars.\n",
        "    else:\n",
        "        line_print += '*'*star_print\n",
        "    # If the line number is greater than one, we can return our string and use the recursive call to run the function\n",
        "    # again with the line number as one value less.\n",
        "    if line_number > 1:\n",
        "        return line_print+'\\n'+str(recursive_triangle(line_number-1, star_print))\n",
        "    # If the line number is exactly one, then we don't need to use the recursive call.\n",
        "    elif line_number == 1:\n",
        "        return line_print"
      ]
    }
  ]
}